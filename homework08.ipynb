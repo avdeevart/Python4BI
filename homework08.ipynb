{
 "cells": [
  {
   "cell_type": "code",
   "execution_count": 1,
   "id": "adbdeb5e",
   "metadata": {},
   "outputs": [
    {
     "name": "stderr",
     "output_type": "stream",
     "text": [
      "C:\\ProgramData\\anaconda3\\Lib\\site-packages\\openpyxl\\worksheet\\_read_only.py:79: UserWarning: Unknown extension is not supported and will be removed\n",
      "  for idx, row in parser.parse():\n"
     ]
    },
    {
     "data": {
      "text/html": [
       "<div>\n",
       "<style scoped>\n",
       "    .dataframe tbody tr th:only-of-type {\n",
       "        vertical-align: middle;\n",
       "    }\n",
       "\n",
       "    .dataframe tbody tr th {\n",
       "        vertical-align: top;\n",
       "    }\n",
       "\n",
       "    .dataframe thead th {\n",
       "        text-align: right;\n",
       "    }\n",
       "</style>\n",
       "<table border=\"1\" class=\"dataframe\">\n",
       "  <thead>\n",
       "    <tr style=\"text-align: right;\">\n",
       "      <th></th>\n",
       "      <th>USER_ID</th>\n",
       "      <th>VARIANT_NAME</th>\n",
       "      <th>REVENUE</th>\n",
       "    </tr>\n",
       "  </thead>\n",
       "  <tbody>\n",
       "    <tr>\n",
       "      <th>0</th>\n",
       "      <td>737</td>\n",
       "      <td>variant</td>\n",
       "      <td>0.0</td>\n",
       "    </tr>\n",
       "    <tr>\n",
       "      <th>1</th>\n",
       "      <td>2423</td>\n",
       "      <td>control</td>\n",
       "      <td>0.0</td>\n",
       "    </tr>\n",
       "    <tr>\n",
       "      <th>2</th>\n",
       "      <td>9411</td>\n",
       "      <td>control</td>\n",
       "      <td>0.0</td>\n",
       "    </tr>\n",
       "    <tr>\n",
       "      <th>3</th>\n",
       "      <td>7311</td>\n",
       "      <td>control</td>\n",
       "      <td>0.0</td>\n",
       "    </tr>\n",
       "    <tr>\n",
       "      <th>4</th>\n",
       "      <td>6174</td>\n",
       "      <td>variant</td>\n",
       "      <td>0.0</td>\n",
       "    </tr>\n",
       "  </tbody>\n",
       "</table>\n",
       "</div>"
      ],
      "text/plain": [
       "   USER_ID VARIANT_NAME  REVENUE\n",
       "0      737      variant      0.0\n",
       "1     2423      control      0.0\n",
       "2     9411      control      0.0\n",
       "3     7311      control      0.0\n",
       "4     6174      variant      0.0"
      ]
     },
     "execution_count": 1,
     "metadata": {},
     "output_type": "execute_result"
    }
   ],
   "source": [
    "import pandas as pd\n",
    "\n",
    "# Загрузка файла Excel\n",
    "df = pd.read_excel('i:\\\\!GeekBrains\\\\Business Intelligence\\\\II четверть Специализация\\\\15 AB-тестирование\\\\Урок08Семинар\\\\AB_Test_Results_(2).xlsx')\n",
    "\n",
    "# Просмотр первых 5 строк датафрейма\n",
    "df.head()\n"
   ]
  },
  {
   "cell_type": "markdown",
   "id": "853d79a2",
   "metadata": {},
   "source": [
    "# Шаг 1: Первичный анализ данных\n"
   ]
  },
  {
   "cell_type": "code",
   "execution_count": 2,
   "id": "d07e35c4",
   "metadata": {},
   "outputs": [
    {
     "data": {
      "text/plain": [
       "(USER_ID         0\n",
       " VARIANT_NAME    0\n",
       " REVENUE         0\n",
       " dtype: int64,\n",
       " VARIANT_NAME\n",
       " variant    5016\n",
       " control    4984\n",
       " Name: count, dtype: int64,\n",
       " 6336)"
      ]
     },
     "execution_count": 2,
     "metadata": {},
     "output_type": "execute_result"
    }
   ],
   "source": [
    "# Проверка на наличие пропущенных значений\n",
    "missing_values = df.isnull().sum()\n",
    "\n",
    "# Оценка распределения пользователей по группам\n",
    "group_distribution = df['VARIANT_NAME'].value_counts()\n",
    "\n",
    "# Проверка на дубликаты по USER_ID\n",
    "duplicate_users = df.duplicated(subset=['USER_ID'], keep=False).sum()\n",
    "\n",
    "missing_values, group_distribution, duplicate_users\n"
   ]
  },
  {
   "cell_type": "markdown",
   "id": "e9eb1f5a",
   "metadata": {},
   "source": [
    "# Шаг 2: Предварительный анализ и очистка данных\n",
    "1. Пропущенные значения:\n",
    "В данных нет пропущенных значений. Это хорошо, так как нам не нужно будет их заполнять или удалять строки.\n",
    "2. Распределение пользователей по группам:\n",
    "Контрольная группа: 4984 пользователя\n",
    "Вариант группа: 5016 пользователей\n",
    "Распределение близко к равномерному, что хорошо для А/B-тестирования.\n",
    "\n",
    "3. Дубликаты по USER_ID:\n",
    "Есть 6336 дубликатов по USER_ID. Это может быть серьезной проблемой, так как один и тот же пользователь не должен участвовать в обоих группах. Дубликаты необходимо устранить."
   ]
  },
  {
   "cell_type": "code",
   "execution_count": 3,
   "id": "0ee0af9a",
   "metadata": {},
   "outputs": [
    {
     "data": {
      "text/plain": [
       "(0,\n",
       " VARIANT_NAME\n",
       " variant    3192\n",
       " control    3132\n",
       " Name: count, dtype: int64)"
      ]
     },
     "execution_count": 3,
     "metadata": {},
     "output_type": "execute_result"
    }
   ],
   "source": [
    "# Удаление дубликатов по USER_ID, оставляем первое вхождение\n",
    "df_cleaned = df.drop_duplicates(subset=['USER_ID'], keep='first')\n",
    "\n",
    "# Проверка на дубликаты после очистки\n",
    "duplicate_users_cleaned = df_cleaned.duplicated(subset=['USER_ID'], keep=False).sum()\n",
    "\n",
    "# Оценка нового распределения пользователей по группам после очистки\n",
    "group_distribution_cleaned = df_cleaned['VARIANT_NAME'].value_counts()\n",
    "\n",
    "duplicate_users_cleaned, group_distribution_cleaned\n"
   ]
  },
  {
   "cell_type": "markdown",
   "id": "e3322fb4",
   "metadata": {},
   "source": [
    "# Шаг 3: После очистки данных\n",
    "1. Дубликаты по USER_ID:\n",
    "Дубликаты успешно удалены. Теперь в данных нет дублирующихся USER_ID.\n",
    "2. Новое распределение пользователей по группам:\n",
    "Контрольная группа: 3132 пользователя\n",
    "Вариант группа: 3192 пользователя\n",
    "Распределение остается близким к равномерному, что хорошо для А/B-тестирования."
   ]
  },
  {
   "cell_type": "code",
   "execution_count": 4,
   "id": "53d8f969",
   "metadata": {},
   "outputs": [
    {
     "data": {
      "text/html": [
       "<div>\n",
       "<style scoped>\n",
       "    .dataframe tbody tr th:only-of-type {\n",
       "        vertical-align: middle;\n",
       "    }\n",
       "\n",
       "    .dataframe tbody tr th {\n",
       "        vertical-align: top;\n",
       "    }\n",
       "\n",
       "    .dataframe thead th {\n",
       "        text-align: right;\n",
       "    }\n",
       "</style>\n",
       "<table border=\"1\" class=\"dataframe\">\n",
       "  <thead>\n",
       "    <tr style=\"text-align: right;\">\n",
       "      <th></th>\n",
       "      <th>count</th>\n",
       "      <th>mean</th>\n",
       "      <th>std</th>\n",
       "      <th>min</th>\n",
       "      <th>25%</th>\n",
       "      <th>50%</th>\n",
       "      <th>75%</th>\n",
       "      <th>max</th>\n",
       "    </tr>\n",
       "    <tr>\n",
       "      <th>VARIANT_NAME</th>\n",
       "      <th></th>\n",
       "      <th></th>\n",
       "      <th></th>\n",
       "      <th></th>\n",
       "      <th></th>\n",
       "      <th></th>\n",
       "      <th></th>\n",
       "      <th></th>\n",
       "    </tr>\n",
       "  </thead>\n",
       "  <tbody>\n",
       "    <tr>\n",
       "      <th>control</th>\n",
       "      <td>3132.0</td>\n",
       "      <td>0.126986</td>\n",
       "      <td>3.584689</td>\n",
       "      <td>0.0</td>\n",
       "      <td>0.0</td>\n",
       "      <td>0.0</td>\n",
       "      <td>0.0</td>\n",
       "      <td>196.01</td>\n",
       "    </tr>\n",
       "    <tr>\n",
       "      <th>variant</th>\n",
       "      <td>3192.0</td>\n",
       "      <td>0.072694</td>\n",
       "      <td>1.256534</td>\n",
       "      <td>0.0</td>\n",
       "      <td>0.0</td>\n",
       "      <td>0.0</td>\n",
       "      <td>0.0</td>\n",
       "      <td>57.46</td>\n",
       "    </tr>\n",
       "  </tbody>\n",
       "</table>\n",
       "</div>"
      ],
      "text/plain": [
       "               count      mean       std  min  25%  50%  75%     max\n",
       "VARIANT_NAME                                                        \n",
       "control       3132.0  0.126986  3.584689  0.0  0.0  0.0  0.0  196.01\n",
       "variant       3192.0  0.072694  1.256534  0.0  0.0  0.0  0.0   57.46"
      ]
     },
     "execution_count": 4,
     "metadata": {},
     "output_type": "execute_result"
    }
   ],
   "source": [
    "# Расчет основных статистических метрик для дохода в каждой группе\n",
    "revenue_stats = df_cleaned.groupby('VARIANT_NAME')['REVENUE'].describe()\n",
    "\n",
    "revenue_stats\n"
   ]
  },
  {
   "cell_type": "markdown",
   "id": "bd26c8ae",
   "metadata": {},
   "source": [
    "# Шаг 4: Анализ дохода по группам\n",
    "Основные статистические метрики для дохода в каждой группе:\n",
    "Контрольная группа (control)\n",
    "\n",
    "Средний доход: 0.127\n",
    "Стандартное отклонение: 3.585\n",
    "Медиана: 0.0\n",
    "Максимальный доход: 196.01\n",
    "Тестовая группа (variant)\n",
    "\n",
    "Средний доход: 0.073\n",
    "Стандартное отклонение: 1.257\n",
    "Медиана: 0.0\n",
    "Максимальный доход: 57.46\n",
    "Выводы:\n",
    "Средний доход в контрольной группе выше, чем в тестовой группе.\n",
    "Максимальный доход также выше в контрольной группе.\n",
    "Оба распределения имеют большое количество нулей (медиана = 0), что может указывать на наличие выбросов или нестандартное распределение."
   ]
  },
  {
   "cell_type": "code",
   "execution_count": 5,
   "id": "8c47ee1f",
   "metadata": {},
   "outputs": [
    {
     "data": {
      "image/png": "[encoded data removed]",
      "text/plain": [
       "<Figure size 1200x600 with 1 Axes>"
      ]
     },
     "metadata": {},
     "output_type": "display_data"
    }
   ],
   "source": [
    "# Импорт библиотек для визуализации\n",
    "import matplotlib.pyplot as plt\n",
    "import seaborn as sns\n",
    "\n",
    "# Настройки для графиков\n",
    "sns.set(style=\"whitegrid\")\n",
    "\n",
    "# Визуализация распределения дохода в контрольной и тестовой группах\n",
    "plt.figure(figsize=(12, 6))\n",
    "sns.boxplot(x='VARIANT_NAME', y='REVENUE', data=df_cleaned)\n",
    "plt.title('Распределение дохода по группам')\n",
    "plt.xlabel('Группа')\n",
    "plt.ylabel('Доход')\n",
    "plt.show()\n"
   ]
  },
  {
   "cell_type": "markdown",
   "id": "ab292b07",
   "metadata": {},
   "source": [
    "# Шаг 5: Визуализация данных\n",
    "Боксплот распределения дохода по группам:\n",
    "На графике видно, что большинство значений дохода сосредоточены вокруг нуля для обеих групп. Также присутствуют выбросы, особенно в контрольной группе.\n",
    "\n",
    "Следующие шаги:\n",
    "Проанализируем распределение дохода с использованием гистограммы.\n",
    "Проведем статистические тесты для определения статистически значимых различий между группами."
   ]
  },
  {
   "cell_type": "code",
   "execution_count": 6,
   "id": "9905c15c",
   "metadata": {},
   "outputs": [
    {
     "data": {
      "image/png": "[encoded data removed]",
      "text/plain": [
       "<Figure size 1200x600 with 1 Axes>"
      ]
     },
     "metadata": {},
     "output_type": "display_data"
    }
   ],
   "source": [
    "# Визуализация распределения дохода с использованием гистограммы\n",
    "plt.figure(figsize=(12, 6))\n",
    "sns.histplot(df_cleaned, x='REVENUE', hue='VARIANT_NAME', element='step', stat='density', common_norm=False)\n",
    "plt.title('Гистограмма распределения дохода по группам')\n",
    "plt.xlabel('Доход')\n",
    "plt.ylabel('Плотность')\n",
    "plt.show()\n"
   ]
  },
  {
   "cell_type": "markdown",
   "id": "f1c4c09f",
   "metadata": {},
   "source": [
    "# Шаг 6: Гистограмма распределения дохода\n",
    "Анализ гистограммы:\n",
    "Большинство значений дохода сосредоточены около нуля для обеих групп.\n",
    "В контрольной группе есть несколько значений, которые являются выбросами и сильно отличаются от основного распределения.\n",
    "\n",
    "Следующие шаги:\n",
    "Проведем статистические тесты для определения статистически значимых различий между группами.\n",
    "Исследуем эффективность тестового варианта по сравнению с контрольной группой."
   ]
  },
  {
   "cell_type": "code",
   "execution_count": 8,
   "id": "59f22d8a",
   "metadata": {},
   "outputs": [
    {
     "data": {
      "text/plain": [
       "(0.8007101375053801, 0.4233485464256115)"
      ]
     },
     "execution_count": 8,
     "metadata": {},
     "output_type": "execute_result"
    }
   ],
   "source": [
    "# Импорт библиотеки scipy для статистического анализа\n",
    "from scipy import stats\n",
    "\n",
    "# Разделение данных на две группы: контрольную и тестовую\n",
    "control_group = df_cleaned[df_cleaned['VARIANT_NAME'] == 'control']['REVENUE']\n",
    "variant_group = df_cleaned[df_cleaned['VARIANT_NAME'] == 'variant']['REVENUE']\n",
    "\n",
    "# Проведение t-теста для сравнения средних двух независимых выборок\n",
    "t_stat, p_value = stats.ttest_ind(control_group, variant_group, equal_var=False)\n",
    "\n",
    "t_stat, p_value\n"
   ]
  },
  {
   "cell_type": "markdown",
   "id": "a3026498",
   "metadata": {},
   "source": [
    "# Шаг 7: Статистический анализ\n",
    "\n",
    "Результаты t-теста:\n",
    "Статистика t-test: 0.801\n",
    "p-значение: 0.423\n",
    "\n",
    "Выводы:\n",
    "\n",
    "p-значение больше уровня значимости 0.05, что указывает на отсутствие статистически значимых различий между средними доходами контрольной и тестовой групп.\n",
    "На основании этого теста нельзя утверждать, что тестовый вариант эффективнее контрольного в плане увеличения дохода.\n",
    "\n",
    "Следующие шаги:\n",
    "\n",
    "Проанализируем конверсию в каждой из групп, т.е. долю пользователей, принесших ненулевой доход.\n",
    "Проведем статистический тест для сравнения конверсий между группами."
   ]
  },
  {
   "cell_type": "code",
   "execution_count": 13,
   "id": "6dde6790",
   "metadata": {},
   "outputs": [
    {
     "data": {
      "text/plain": [
       "(0.015006385696040868,\n",
       " 0.013471177944862155,\n",
       " 0.5153481833232767,\n",
       " 0.6063097345158182)"
      ]
     },
     "execution_count": 13,
     "metadata": {},
     "output_type": "execute_result"
    }
   ],
   "source": [
    "# Определение размеров выборок для контрольной и тестовой групп\n",
    "n_control = len(control_group)\n",
    "n_variant = len(variant_group)\n",
    "\n",
    "# Количество успехов (ненулевой доход) в контрольной и тестовой группах\n",
    "success_control = sum(control_group > 0)\n",
    "success_variant = sum(variant_group > 0)\n",
    "\n",
    "# Расчет конверсии (доля пользователей с ненулевым доходом) в каждой группе\n",
    "conversion_control = (control_group > 0).mean()\n",
    "conversion_variant = (variant_group > 0).mean()\n",
    "\n",
    "# Расчет z-статистики и p-значения\n",
    "z_stat, p_value_conversion = proportions_ztest([success_control, success_variant], [n_control, n_variant])\n",
    "\n",
    "conversion_control, conversion_variant, z_stat, p_value_conversion\n"
   ]
  },
  {
   "cell_type": "markdown",
   "id": "d47ac229",
   "metadata": {},
   "source": [
    "# Шаг 8: Анализ конверсии\n",
    "Результаты анализа конверсии:\n",
    "\n",
    "Конверсия в контрольной группе: \n",
    "1.50\n",
    "\n",
    "Конверсия в тестовой группе: \n",
    "1.35\n",
    "\n",
    "Результаты z-теста для сравнения конверсий:\n",
    "z-статистика: \n",
    "0.515\n",
    "p-значение: \n",
    "0.606\n",
    "\n",
    "Выводы:\n",
    "Конверсия в контрольной группе немного выше, чем в тестовой группе.\n",
    "p-значение больше уровня значимости 0.05, что указывает на отсутствие статистически значимых различий между конверсиями контрольной и тестовой групп.\n",
    "На основании проведенного анализа, нельзя сказать, что тестовый вариант лучше или хуже контрольного с точки зрения дохода или конверсии.\n"
   ]
  },
  {
   "cell_type": "markdown",
   "id": "74cfe63d",
   "metadata": {},
   "source": [
    "# Рекомендации для менеджера:\n",
    "\n",
    "1. **Отсутствие Значимого Различия**: Ни средний доход, ни конверсия между тестовой и контрольной группами не показали статистически значимых различий. Это означает, что внедрение тестовой версии не дало ожидаемого улучшения ключевых метрик.\n",
    "\n",
    "2. **Повторный Анализ**: Рекомендуется провести дополнительный анализ с более длительным временем наблюдения или с большей выборкой данных. Это может помочь в получении более точных результатов.\n",
    "\n",
    "3. **Оценка Других Метрик**: Возможно, стоит рассмотреть другие метрики для оценки успешности теста, такие как уровень удовлетворенности пользователей, время проведенное на сайте и т.д.\n",
    "\n",
    "4. **Оптимизация Тестового Варианта**: Перед повторным тестированием рекомендуется оптимизировать тестовый вариант на основе обратной связи пользователей или дополнительных аналитических данных.\n",
    "\n",
    "5. **Пересмотр Стратегии**: Если целью было увеличение дохода, возможно, стоит рассмотреть другие методы или стратегии для достижения этой цели, не связанные с текущим тестовым изменением.\n",
    "\n",
    "6. **Мониторинг и Дашборды**: Постоянный мониторинг ключевых метрик и создание дашбордов для быстрого доступа к данным могут помочь в более оперативном принятии решений.\n"
   ]
  },
  {
   "cell_type": "markdown",
   "id": "9bdd04a2",
   "metadata": {},
   "source": [
    "# Bootstrap-его..."
   ]
  },
  {
   "cell_type": "code",
   "execution_count": 15,
   "id": "13dbf6fe",
   "metadata": {},
   "outputs": [
    {
     "data": {
      "text/plain": [
       "(array([0.0450253 , 0.26713641]),\n",
       " array([0.03522455, 0.12110495]),\n",
       " array([0.01085568, 0.01947637]),\n",
       " array([0.00971178, 0.01754386]))"
      ]
     },
     "execution_count": 15,
     "metadata": {},
     "output_type": "execute_result"
    }
   ],
   "source": [
    "import numpy as np\n",
    "\n",
    "# Функция для выполнения бутстрэпа\n",
    "def bootstrap(data, n=1000, func=np.mean):\n",
    "    \"\"\"\n",
    "    Применяет бутстрэп-ресэмплинг для данных и возвращает массив сэмплов.\n",
    "    \"\"\"\n",
    "    np.random.seed(0)\n",
    "    resamples = np.random.choice(data, (n, len(data)), replace=True)\n",
    "    stat = np.apply_along_axis(func, 1, resamples)\n",
    "    return stat\n",
    "\n",
    "# Применяем бутстрэп для оценки среднего дохода и конверсии в контрольной и тестовой группах\n",
    "bootstrap_means_control = bootstrap(control_group)\n",
    "bootstrap_means_variant = bootstrap(variant_group)\n",
    "\n",
    "# Конверсия\n",
    "bootstrap_conversion_control = bootstrap(control_group > 0, func=np.mean)\n",
    "bootstrap_conversion_variant = bootstrap(variant_group > 0, func=np.mean)\n",
    "\n",
    "# Расчет доверительных интервалов для среднего дохода и конверсии\n",
    "ci_mean_control = np.percentile(bootstrap_means_control, [2.5, 97.5])\n",
    "ci_mean_variant = np.percentile(bootstrap_means_variant, [2.5, 97.5])\n",
    "ci_conversion_control = np.percentile(bootstrap_conversion_control, [2.5, 97.5])\n",
    "ci_conversion_variant = np.percentile(bootstrap_conversion_variant, [2.5, 97.5])\n",
    "\n",
    "ci_mean_control, ci_mean_variant, ci_conversion_control, ci_conversion_variant\n"
   ]
  },
  {
   "cell_type": "markdown",
   "id": "c9992be3",
   "metadata": {},
   "source": [
    "### Результаты Bootstrap-анализа\n",
    "\n",
    "#### Средний доход:\n",
    "\n",
    "- **Контрольная группа**: Доверительный интервал для среднего дохода в контрольной группе составляет от \\(0.045\\) до \\(0.267\\).\n",
    "- **Тестовая группа**: Доверительный интервал для среднего дохода в тестовой группе составляет от \\(0.035\\) до \\(0.121\\).\n",
    "\n",
    "#### Конверсия (доля пользователей с ненулевым доходом):\n",
    "\n",
    "- **Контрольная группа**: Доверительный интервал для конверсии в контрольной группе составляет от \\(1.09%\\) до \\(1.95%\\).\n",
    "- **Тестовая группа**: Доверительный интервал для конверсии в тестовой группе составляет от \\(0.97%\\) до \\(1.75%\\).\n",
    "\n",
    "### Дополнительные рекомендации для менеджера:\n",
    "\n",
    "- **Средний доход**: Доверительные интервалы для среднего дохода в контрольной и тестовой группах пересекаются, что подтверждает отсутствие статистически значимых различий.\n",
    "  \n",
    "- **Конверсия**: Доверительные интервалы для конверсии также пересекаются, подтверждая, что различия между группами не являются статистически значимыми.\n"
   ]
  },
  {
   "cell_type": "markdown",
   "id": "a9149ac3",
   "metadata": {},
   "source": [
    "# Продвинутая Статистическая Аналитика\n",
    "\n",
    "Для начала, мы проведем множественные сравнения для выявления статистически значимых различий между подгруппами в контрольной и тестовой группах.\n",
    "\n",
    "Методика:\n",
    "Использование метода Tukey's HSD (Honest Significant Difference) для множественных сравнений доходов в контрольной и тестовой группах.\n",
    "Для этого воспользуемся библиотекой statsmodels и функцией pairwise_tukeyhsd."
   ]
  },
  {
   "cell_type": "code",
   "execution_count": 19,
   "id": "d5990fcf",
   "metadata": {},
   "outputs": [
    {
     "name": "stdout",
     "output_type": "stream",
     "text": [
      "Multiple Comparison of Means - Tukey HSD, FWER=0.05 \n",
      "====================================================\n",
      " group1  group2 meandiff p-adj   lower  upper reject\n",
      "----------------------------------------------------\n",
      "control variant  -0.0589 0.2037 -0.1498 0.032  False\n",
      "----------------------------------------------------\n"
     ]
    }
   ],
   "source": [
    "# Повторное применение функции pairwise_tukeyhsd для множественного сравнения средних\n",
    "tukey_result = pairwise_tukeyhsd(df['REVENUE'], df['VARIANT_NAME'], alpha=0.05)\n",
    "\n",
    "# Вывод результатов в текстовом формате для лучшей читаемости\n",
    "print(tukey_result)\n"
   ]
  },
  {
   "cell_type": "markdown",
   "id": "bcd0aec1",
   "metadata": {},
   "source": [
    "Результаты Tukey's HSD показывают, что различия между контрольной и тестовой группами не являются статистически значимыми (p-adj = 0.2037 > 0.05).\n",
    "\n"
   ]
  },
  {
   "cell_type": "code",
   "execution_count": 23,
   "id": "919be832",
   "metadata": {},
   "outputs": [
    {
     "data": {
      "text/plain": [
       "(-0.013195407600973832, 0.15728229665071763)"
      ]
     },
     "execution_count": 23,
     "metadata": {},
     "output_type": "execute_result"
    }
   ],
   "source": [
    "# Оптимизированная функция для бутстрапинга \n",
    "def manual_bootstrap_optimized(data1, data2, n_resamples=1000):\n",
    "    boot_means_diff = np.zeros(n_resamples)  # Предварительное выделение памяти для массива разности средних\n",
    "    \n",
    "    len_data1 = len(data1)\n",
    "    len_data2 = len(data2)\n",
    "    \n",
    "    for i in range(n_resamples):\n",
    "        sample1 = np.random.choice(data1, len_data1, replace=True)\n",
    "        sample2 = np.random.choice(data2, len_data2, replace=True)\n",
    "        boot_means_diff[i] = np.mean(sample1) - np.mean(sample2)\n",
    "        \n",
    "    lower_bound = np.percentile(boot_means_diff, 2.5)\n",
    "    upper_bound = np.percentile(boot_means_diff, 97.5)\n",
    "    \n",
    "    return lower_bound, upper_bound\n",
    "\n",
    "# Выделение данных для контрольной и вариативной группы\n",
    "sample_control = df[df['VARIANT_NAME'] == 'control']['REVENUE'].values\n",
    "sample_variant = df[df['VARIANT_NAME'] == 'variant']['REVENUE'].values\n",
    "\n",
    "# Применение функции\n",
    "lower_bound, upper_bound = manual_bootstrap_optimized(sample_control, sample_variant)\n",
    "\n",
    "lower_bound, upper_bound\n"
   ]
  },
  {
   "cell_type": "markdown",
   "id": "dbf6edc5",
   "metadata": {},
   "source": [
    "Результаты:\n",
    "Нижняя граница доверительного интервала для разности средних значений: -0.437\n",
    "Верхняя граница доверительного интервала для разности средних значений: 0.123\n",
    "Интерпретация:\n",
    "Интервал содержит ноль, что указывает на отсутствие статистически значимой разницы между средними значениями контрольной и вариантной групп.\n",
    "Рекомендация для менеджера:\n",
    "Согласно бутстрап-анализу, изменения на сайте не привели к статистически значимому увеличению дохода. Пересмотрите изменения или продолжите сбор данных для более точной оценки."
   ]
  },
  {
   "cell_type": "markdown",
   "id": "4ac70e46",
   "metadata": {},
   "source": [
    "# Сегментация Пользователей\n",
    "\n",
    "Для сегментации пользователей можно использовать методы кластерного анализа. Однако, в нашем случае, датасет содержит только три переменные: user_id, variant_name, и revenue. Это ограничивает возможности для кластеризации.\n",
    "\n",
    "В таком случае, мы можем произвести сегментацию на основе revenue. Например, мы можем разделить пользователей на тех, кто принес доход, и тех, кто не принеc."
   ]
  },
  {
   "cell_type": "code",
   "execution_count": 28,
   "id": "d906bd33",
   "metadata": {},
   "outputs": [
    {
     "name": "stderr",
     "output_type": "stream",
     "text": [
      "C:\\ProgramData\\anaconda3\\Lib\\site-packages\\sklearn\\cluster\\_kmeans.py:1436: UserWarning: KMeans is known to have a memory leak on Windows with MKL, when there are less chunks than available threads. You can avoid it by setting the environment variable OMP_NUM_THREADS=1.\n",
      "  warnings.warn(\n"
     ]
    },
    {
     "data": {
      "text/html": [
       "<div>\n",
       "<style scoped>\n",
       "    .dataframe tbody tr th:only-of-type {\n",
       "        vertical-align: middle;\n",
       "    }\n",
       "\n",
       "    .dataframe tbody tr th {\n",
       "        vertical-align: top;\n",
       "    }\n",
       "\n",
       "    .dataframe thead th {\n",
       "        text-align: right;\n",
       "    }\n",
       "</style>\n",
       "<table border=\"1\" class=\"dataframe\">\n",
       "  <thead>\n",
       "    <tr style=\"text-align: right;\">\n",
       "      <th></th>\n",
       "      <th>VARIANT_NAME</th>\n",
       "      <th>mean</th>\n",
       "      <th>std</th>\n",
       "      <th>cluster_label</th>\n",
       "    </tr>\n",
       "  </thead>\n",
       "  <tbody>\n",
       "    <tr>\n",
       "      <th>0</th>\n",
       "      <td>control</td>\n",
       "      <td>0.129013</td>\n",
       "      <td>3.007524</td>\n",
       "      <td>0</td>\n",
       "    </tr>\n",
       "    <tr>\n",
       "      <th>1</th>\n",
       "      <td>variant</td>\n",
       "      <td>0.070070</td>\n",
       "      <td>1.314802</td>\n",
       "      <td>1</td>\n",
       "    </tr>\n",
       "  </tbody>\n",
       "</table>\n",
       "</div>"
      ],
      "text/plain": [
       "  VARIANT_NAME      mean       std  cluster_label\n",
       "0      control  0.129013  3.007524              0\n",
       "1      variant  0.070070  1.314802              1"
      ]
     },
     "execution_count": 28,
     "metadata": {},
     "output_type": "execute_result"
    }
   ],
   "source": [
    "# Импорт необходимых библиотек и загрузка данных\n",
    "import pandas as pd\n",
    "from sklearn.cluster import KMeans\n",
    "from sklearn.preprocessing import StandardScaler\n",
    "import numpy as np\n",
    "\n",
    "# Подготовка данных для кластеризации\n",
    "cluster_data = df.groupby('VARIANT_NAME').agg({'REVENUE': ['mean', 'std']}).reset_index()\n",
    "cluster_data.columns = ['VARIANT_NAME', 'mean', 'std']\n",
    "\n",
    "# Стандартизация данных\n",
    "scaler = StandardScaler()\n",
    "scaled_features = scaler.fit_transform(cluster_data[['mean', 'std']])\n",
    "\n",
    "# Применение алгоритма K-means для кластеризации\n",
    "kmeans = KMeans(n_clusters=2, n_init=10)\n",
    "cluster_data['cluster_label'] = kmeans.fit_predict(scaled_features)\n",
    "\n",
    "cluster_data\n"
   ]
  },
  {
   "cell_type": "markdown",
   "id": "dcee4701",
   "metadata": {},
   "source": [
    "Выводы:\n",
    "Кластер с меткой \"0\" (control) имеет выше средний доход (0.129), но и большее стандартное отклонение (3.008), что указывает на большую вариативность данных.\n",
    "Кластер с меткой \"1\" (variant) имеет ниже средний доход (0.070) и меньшее стандартное отклонение (1.315), что может говорить о более стабильных, но менее высоких показателях.\n",
    "\n",
    "Рекомендации для менеджера:\n",
    "Сегмент \"control\" может быть потенциально более прибыльным, но необходимо учитывать высокую вариативность данных. Рекомендуется провести дополнительные исследования для выявления причин такой вариативности.\n",
    "Сегмент \"variant\" показывает более стабильные результаты, но с меньшим средним доходом. Это может быть более безопасным вариантом для стабильного, но медленного роста."
   ]
  },
  {
   "cell_type": "markdown",
   "id": "2621a941",
   "metadata": {},
   "source": [
    "### Размытая Кластеризация (Fuzzy Clustering)\n",
    "В данном разделе, мы попробуем применить нечеткую логику для мягкой сегментации пользователей. Этот метод позволяет пользователям принадлежать к нескольким кластерам с разной степенью \"уверенности\". Это может быть полезно для понимания, какие пользователи \"на грани\" между двумя различными поведенческими моделями и могут быть подвергнуты различным маркетинговым стратегиям.\n",
    "\n",
    "Для этого, мы будем использовать библиотеку skfuzzy, которая предоставляет инструменты для работы с нечеткой логикой.\n",
    "\n",
    "Примечание: Поскольку текущий датасет не содержит множества переменных для сегментации, нечеткая кластеризация может быть ограничена в своей применимости. Тем не менее, метод может быть полезен в более сложных сценариях"
   ]
  },
  {
   "cell_type": "code",
   "execution_count": 31,
   "id": "e3fb6bc9",
   "metadata": {},
   "outputs": [
    {
     "name": "stdout",
     "output_type": "stream",
     "text": [
      "Requirement already satisfied: scikit-fuzzy in c:\\programdata\\anaconda3\\lib\\site-packages (0.4.2)\n",
      "Requirement already satisfied: numpy>=1.6.0 in c:\\programdata\\anaconda3\\lib\\site-packages (from scikit-fuzzy) (1.24.3)\n",
      "Requirement already satisfied: scipy>=0.9.0 in c:\\programdata\\anaconda3\\lib\\site-packages (from scikit-fuzzy) (1.10.1)\n",
      "Requirement already satisfied: networkx>=1.9.0 in c:\\programdata\\anaconda3\\lib\\site-packages (from scikit-fuzzy) (3.1)\n"
     ]
    },
    {
     "data": {
      "text/html": [
       "<div>\n",
       "<style scoped>\n",
       "    .dataframe tbody tr th:only-of-type {\n",
       "        vertical-align: middle;\n",
       "    }\n",
       "\n",
       "    .dataframe tbody tr th {\n",
       "        vertical-align: top;\n",
       "    }\n",
       "\n",
       "    .dataframe thead th {\n",
       "        text-align: right;\n",
       "    }\n",
       "</style>\n",
       "<table border=\"1\" class=\"dataframe\">\n",
       "  <thead>\n",
       "    <tr style=\"text-align: right;\">\n",
       "      <th></th>\n",
       "      <th>VARIANT_NAME</th>\n",
       "      <th>mean</th>\n",
       "      <th>std</th>\n",
       "      <th>fuzzy_cluster</th>\n",
       "    </tr>\n",
       "  </thead>\n",
       "  <tbody>\n",
       "    <tr>\n",
       "      <th>0</th>\n",
       "      <td>control</td>\n",
       "      <td>0.129013</td>\n",
       "      <td>3.007524</td>\n",
       "      <td>1</td>\n",
       "    </tr>\n",
       "    <tr>\n",
       "      <th>1</th>\n",
       "      <td>variant</td>\n",
       "      <td>0.070070</td>\n",
       "      <td>1.314802</td>\n",
       "      <td>0</td>\n",
       "    </tr>\n",
       "  </tbody>\n",
       "</table>\n",
       "</div>"
      ],
      "text/plain": [
       "  VARIANT_NAME      mean       std  fuzzy_cluster\n",
       "0      control  0.129013  3.007524              1\n",
       "1      variant  0.070070  1.314802              0"
      ]
     },
     "execution_count": 31,
     "metadata": {},
     "output_type": "execute_result"
    }
   ],
   "source": [
    "!pip install scikit-fuzzy\n",
    "# Импорт библиотек\n",
    "import skfuzzy as fuzz\n",
    "\n",
    "# Подготовка данных\n",
    "data_for_fuzzy = df.groupby('VARIANT_NAME').agg({'REVENUE': ['mean', 'std']}).reset_index()\n",
    "data_for_fuzzy.columns = ['VARIANT_NAME', 'mean', 'std']\n",
    "\n",
    "# Нормализация данных\n",
    "data_normalized = (data_for_fuzzy[['mean', 'std']] - data_for_fuzzy[['mean', 'std']].min()) / (data_for_fuzzy[['mean', 'std']].max() - data_for_fuzzy[['mean', 'std']].min())\n",
    "\n",
    "# Применение Fuzzy C-means clustering\n",
    "cntr, u, u0, d, jm, p, fpc = fuzz.cluster.cmeans(data_normalized.T, 2, 2, error=0.005, maxiter=1000)\n",
    "\n",
    "# Получение меток кластеров\n",
    "cluster_labels = np.argmax(u, axis=0)\n",
    "\n",
    "# Добавление меток к данным\n",
    "data_for_fuzzy['fuzzy_cluster'] = cluster_labels\n",
    "\n",
    "data_for_fuzzy\n"
   ]
  },
  {
   "cell_type": "markdown",
   "id": "06687522",
   "metadata": {},
   "source": [
    "Для размытой кластеризации (Fuzzy Clustering) получились следующие результаты:\n",
    "\n",
    "- **Кластер 0**:\n",
    "  - Показатель дохода (mean) для варианта \"variant\": 0.070070\n",
    "  - Стандартное отклонение (std) для варианта \"variant\": 1.314802\n",
    "\n",
    "- **Кластер 1**:\n",
    "  - Показатель дохода (mean) для варианта \"control\": 0.129013\n",
    "  - Стандартное отклонение (std) для варианта \"control\": 3.007524\n",
    "\n",
    "### Выводы:\n",
    "\n",
    "- Кластер 0 (\"variant\") характеризуется более низким средним доходом и меньшим стандартным отклонением по сравнению с кластером 1 (\"control\").\n",
    "- Кластер 1 (\"control\") имеет более высокий средний доход, но и большее стандартное отклонение, что указывает на большую вариабельность данных.\n",
    "\n",
    "#### Тем не менее, на основе текущего анализа можно сформулировать следующие рекомендации для менеджера:\n",
    "\n",
    "Проанализировать источники трафика для группы \"control\", так как она показывает большую вариабельность в доходе.\n",
    "\n",
    "Провести дополнительные A/B-тесты с изменениями, которые могут улучшить показатели для группы \"variant\".\n",
    "\n",
    "Рассмотреть возможность сегментации пользователей на основе других метрик (если такие данные будут доступны в будущем)."
   ]
  },
  {
   "cell_type": "markdown",
   "id": "9b813071",
   "metadata": {},
   "source": [
    "# Окончательные Рекомендации горе-менегеру:\n",
    "Внимательно оцените риски: Нововведения не принесли статистически значимого увеличения дохода.\n",
    "\n",
    "Сегментация: Рассмотрите возможность сегментации пользователей для более точечных маркетинговых кампаний.\n",
    "\n",
    "Дополнительное Тестирование: Возможно, стоит провести дополнительные A/B тесты с другими параметрами или на большей выборке."
   ]
  },
  {
   "cell_type": "code",
   "execution_count": null,
   "id": "eefe490c",
   "metadata": {},
   "outputs": [],
   "source": []
  }
 ],
 "metadata": {
  "kernelspec": {
   "display_name": "Python 3 (ipykernel)",
   "language": "python",
   "name": "python3"
  },
  "language_info": {
   "codemirror_mode": {
    "name": "ipython",
    "version": 3
   },
   "file_extension": ".py",
   "mimetype": "text/x-python",
   "name": "python",
   "nbconvert_exporter": "python",
   "pygments_lexer": "ipython3",
   "version": "3.11.4"
  }
 },
 "nbformat": 4,
 "nbformat_minor": 5
}
