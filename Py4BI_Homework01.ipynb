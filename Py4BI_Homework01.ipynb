{
 "cells": [
  {
   "cell_type": "markdown",
   "id": "29db0ecb",
   "metadata": {},
   "source": [
    "# Домашнее задание к семинару №1\n",
    "**Выполнил:** Артем Анатольевич Авдеев\n"
   ]
  },
  {
   "cell_type": "markdown",
   "id": "7de7e6a5",
   "metadata": {},
   "source": [
    "## Задание 2\n",
    "\n",
    "На складе лежат разные фрукты в разном количестве.\n",
    "Нужно написать функцию, которая на вход принимает любое\n",
    "количество названий фруктов и их количество, а возвращает\n",
    "общее количество фруктов на складе."
   ]
  },
  {
   "cell_type": "code",
   "execution_count": 8,
   "id": "86a15bc7",
   "metadata": {},
   "outputs": [
    {
     "data": {
      "text/plain": [
       "60"
      ]
     },
     "execution_count": 8,
     "metadata": {},
     "output_type": "execute_result"
    }
   ],
   "source": [
    "def total_fruits(**fruits: int) -> int:\n",
    "   \n",
    "    # Используем sum для подсчета общего количества фруктов\n",
    "    return sum(fruits.values())\n",
    "\n",
    "result = total_fruits(apples=10, bananas=20, oranges=30)\n",
    "result"
   ]
  },
  {
   "cell_type": "markdown",
   "id": "a25fefff",
   "metadata": {},
   "source": [
    "## Задание 3\n",
    "\n",
    "Дан список с затратами на рекламу. Но в данных есть ошибки,\n",
    "некоторые затраты имеют отрицательную величину. Удалите\n",
    "такие значения из списка и посчитайте суммарные затраты. Используйте list comprehensions\n",
    "\n",
    "```python\n",
    "expenses = [100, 125, -90, 345, 655, -1, 0, 200]\n",
    "corrected_expenses = [expense for expense in expenses if expense >= 0]\n",
    "total_expenses = sum(corrected_expenses)"
   ]
  },
  {
   "cell_type": "code",
   "execution_count": 3,
   "id": "57fab2b0",
   "metadata": {},
   "outputs": [
    {
     "data": {
      "text/plain": [
       "1425"
      ]
     },
     "execution_count": 3,
     "metadata": {},
     "output_type": "execute_result"
    }
   ],
   "source": [
    "from typing import List\n",
    "\n",
    "def calculate_expenses(expenses: List[int]) -> int:\n",
    "    # Используем list comprehension для фильтрации только положительных затрат и суммируем их\n",
    "    total_expense = sum(expense for expense in expenses if expense >= 0)\n",
    "    return total_expense\n",
    "\n",
    "test_expenses = [100, 125, -90, 345, 655, -1, 0, 200]\n",
    "result = calculate_expenses(test_expenses)\n",
    "result\n"
   ]
  },
  {
   "cell_type": "markdown",
   "id": "b02adafe",
   "metadata": {},
   "source": [
    "## Задание 4:\n",
    "\n",
    "Даны два списка.\n",
    "\n",
    "**Дата покупки**:  \n",
    "['2021-09-14', '2021-12-15', '2021-09-08', ...]\n",
    "\n",
    "**Суммы покупок по датам**:  \n",
    "[1270, 8413, 9028, ...]\n",
    "\n",
    "### 4.1 Найдите, какая выручка у компании в ноябре\n",
    "Используйте list comprehensions."
   ]
  },
  {
   "cell_type": "code",
   "execution_count": 5,
   "id": "c2f13e84",
   "metadata": {},
   "outputs": [
    {
     "data": {
      "text/plain": [
       "25098"
      ]
     },
     "execution_count": 5,
     "metadata": {},
     "output_type": "execute_result"
    }
   ],
   "source": [
    "# Исходные данные\n",
    "purchase_dates = ['2021-09-14', '2021-12-15', '2021-09-08', '2021-12-05', '2021-10-09', '2021-09-30', '2021-12-22', '2021-11-29', \n",
    "                  '2021-12-24', '2021-11-26', '2021-10-27', '2021-12-18', '2021-11-09', '2021-11-23', '2021-09-27', '2021-10-02', \n",
    "                  '2021-12-27', '2021-09-20', '2021-12-13', '2021-11-01', '2021-11-09', '2021-12-06', '2021-12-08', '2021-10-09', \n",
    "                  '2021-10-31', '2021-09-30', '2021-11-09', '2021-12-13', '2021-10-26', '2021-12-09']\n",
    "purchase_amounts = [1270, 8413, 9028, 3703, 5739, 4095, 295, 4944, 5723, 3701, 4471, 651, 7037, 4274, 6275, 4988, 6930, 2971, \n",
    "                    6592, 2004, 2822, 519, 3406, 2732, 5015, 2008, 316, 6333, 5700, 2887]\n",
    "\n",
    "# Вычисляем суммарную выручку за ноябрь\n",
    "# С помощью list comprehension фильтруем покупки, совершенные в ноябре (2021-11), и суммируем их\n",
    "november_revenue = sum(amount for date, amount in zip(purchase_dates, purchase_amounts) if date.startswith('2021-11'))\n",
    "november_revenue\n",
    "\n"
   ]
  },
  {
   "cell_type": "markdown",
   "id": "ddb6a420",
   "metadata": {},
   "source": [
    "### 4.2 Найдите выручку компании в зависимости от месяца\n",
    "Для этого напишите функцию, которая на вход принимает список с датами и список с выручкой, а на выходе словарь, где ключи - это месяцы, а значения - это выручка. Используйте аннотирование типов.\n"
   ]
  },
  {
   "cell_type": "code",
   "execution_count": 7,
   "id": "3a3ac843",
   "metadata": {},
   "outputs": [
    {
     "data": {
      "text/plain": [
       "{'09': 25647, '12': 45452, '10': 28645, '11': 25098}"
      ]
     },
     "execution_count": 7,
     "metadata": {},
     "output_type": "execute_result"
    }
   ],
   "source": [
    "from typing import Dict, List\n",
    "from collections import defaultdict\n",
    "\n",
    "def monthly_revenue(purchase_dates: List[str], purchase_amounts: List[int]) -> Dict[str, int]:\n",
    "\n",
    "    # Инициализация defaultdict для подсчета выручки по месяцам\n",
    "    revenue_by_month = defaultdict(int)\n",
    "    \n",
    "    # Итерация по датам и суммам покупок\n",
    "    for date, amount in zip(purchase_dates, purchase_amounts):\n",
    "        month = date.split('-')[1]  # Извлечение месяца из даты\n",
    "        revenue_by_month[month] += amount  # Учет суммы в соответствующем месяце\n",
    "    \n",
    "    return dict(revenue_by_month)\n",
    "\n",
    "result = monthly_revenue(purchase_dates, purchase_amounts)\n",
    "result\n"
   ]
  },
  {
   "cell_type": "code",
   "execution_count": null,
   "id": "85416d7d",
   "metadata": {},
   "outputs": [],
   "source": []
  }
 ],
 "metadata": {
  "kernelspec": {
   "display_name": "Python 3 (ipykernel)",
   "language": "python",
   "name": "python3"
  },
  "language_info": {
   "codemirror_mode": {
    "name": "ipython",
    "version": 3
   },
   "file_extension": ".py",
   "mimetype": "text/x-python",
   "name": "python",
   "nbconvert_exporter": "python",
   "pygments_lexer": "ipython3",
   "version": "3.11.4"
  }
 },
 "nbformat": 4,
 "nbformat_minor": 5
}
