{
 "cells": [
  {
   "attachments": {},
   "cell_type": "markdown",
   "id": "66252d7d",
   "metadata": {},
   "source": [
    "# Домашнее задание к семинару №6\n",
    "---\n",
    "## Задача №1:\n",
    "Продакт на главной mail.ru решил протестировать в рекомендательной ленте контента вместо карточек со статьями видеоплеер с короткими видео. Нынешний таймспент на юзера в день в среднем равен 25 минут, а стандартная ошибка (SD) равна 156. Мы предполагаем, что в новой версии таймспент на юзера в день изменится на 10%. Средний трафик  20000 человек в день. Посчитайте сколько дней необходимо держать эксперимент при alpha = 5% и beta = 20% ."
   ]
  },
  {
   "cell_type": "markdown",
   "id": "dd90447c",
   "metadata": {},
   "source": [
    "### Решение:\n",
    "\n",
    "#### Подготовка данных\n",
    "\n",
    "- Изначальный таймспент (mean) = 25 минут\n",
    "- Стандартная ошибка (SD) = 156\n",
    "- Предполагаемое изменение = 10% = 2.5 минут\n",
    "- Средний трафик = 20000 человек в день\n",
    "- Уровень доверия (alpha) = 5% = 0.05\n",
    "- Уровень мощности (beta) = 20% = 0.2 (мощность теста 1 - beta = 0.8)\n"
   ]
  },
  {
   "cell_type": "code",
   "execution_count": 10,
   "id": "af460a6b",
   "metadata": {},
   "outputs": [
    {
     "data": {
      "text/plain": [
       "2"
      ]
     },
     "execution_count": 10,
     "metadata": {},
     "output_type": "execute_result"
    }
   ],
   "source": [
    "from math import ceil\n",
    "from scipy.stats import norm\n",
    "\n",
    "# Изначальные данные\n",
    "mean = 25\n",
    "std_dev = 156\n",
    "delta = mean * 0.1\n",
    "daily_traffic = 20000\n",
    "alpha = 0.05\n",
    "beta = 0.2\n",
    "\n",
    "# Расчет Z-значений\n",
    "z_alpha = norm.ppf(1 - alpha / 2)\n",
    "z_beta = norm.ppf(1 - beta)\n",
    "\n",
    "# Расчет минимального размера выборки на одну группу\n",
    "n_per_group = ((z_alpha + z_beta) * std_dev / delta) ** 2\n",
    "\n",
    "# Расчет количества дней для эксперимента\n",
    "days_needed = ceil(n_per_group / daily_traffic)\n",
    "\n",
    "days_needed\n"
   ]
  },
  {
   "cell_type": "markdown",
   "id": "5303c867",
   "metadata": {},
   "source": [
    "Ответ: 2 дня"
   ]
  },
  {
   "cell_type": "markdown",
   "id": "1e85addb",
   "metadata": {},
   "source": [
    "#### Альтернативные варианты расчета: T-тест|/Манна-Уитни"
   ]
  },
  {
   "cell_type": "code",
   "execution_count": 11,
   "id": "f49b5ceb",
   "metadata": {},
   "outputs": [
    {
     "name": "stdout",
     "output_type": "stream",
     "text": [
      "Необходимое количество дней для T-теста: 1\n",
      "Необходимое количество дней для теста Манна-Уитни: 1\n"
     ]
    }
   ],
   "source": [
    "from scipy import stats\n",
    "import math\n",
    "import numpy as np\n",
    "\n",
    "# Исходные данные\n",
    "mean_control = 25  # среднее значение в контрольной группе\n",
    "std_dev = 156  # стандартное отклонение в контрольной группе\n",
    "mean_experiment = mean_control + 2.5  # среднее значение в экспериментальной группе\n",
    "daily_traffic = 20000  # ежедневный трафик\n",
    "alpha = 0.05  # уровень значимости\n",
    "beta = 0.2  # вероятность ошибки второго рода\n",
    "\n",
    "# T-тест\n",
    "t_score = stats.t.ppf(1 - alpha / 2, df=2*daily_traffic - 2)\n",
    "required_sample_ttest = (2 * (std_dev ** 2) * (t_score ** 2)) / ((mean_experiment - mean_control) ** 2)\n",
    "days_ttest = required_sample_ttest / (2 * daily_traffic)\n",
    "\n",
    "# Непараметрические тесты (Манна-Уитни)\n",
    "# В этом случае мы можем использовать Z-статистику для оценки, так как размер выборки велик.\n",
    "z_score = stats.norm.ppf(1 - alpha / 2)\n",
    "required_sample_mannwhitney = (2 * (std_dev ** 2) * (z_score ** 2)) / ((mean_experiment - mean_control) ** 2)\n",
    "days_mannwhitney = required_sample_mannwhitney / (2 * daily_traffic)\n",
    "\n",
    "print(f\"Необходимое количество дней для T-теста: {math.ceil(days_ttest)}\")\n",
    "print(f\"Необходимое количество дней для теста Манна-Уитни: {math.ceil(days_mannwhitney)}\")\n"
   ]
  },
  {
   "cell_type": "markdown",
   "id": "d1d4a13b",
   "metadata": {},
   "source": [
    "### Задача №2:\n",
    "Наша продуктовая команда в ecommerce магазине планирует запустить тест, направленный на ускорение загрузки сайта. Одна из основных метрик bounce rate в GA = 40%. Мы предполагаем, что при оптимизации сайта она изменится минимум на 20%.Средний трафик  4000 человек в день. Посчитайте сколько нам нужно дней держать эксперимент при alpha = 5% и beta = 20%\n"
   ]
  },
  {
   "cell_type": "markdown",
   "id": "c7f83e98",
   "metadata": {},
   "source": [
    "### Решение:\n",
    "\n",
    "Для решения этой задачи мы можем использовать Z-тест для пропорций. Поскольку у нас есть предположения относительно изменений и известны текущие показатели, мы можем вычислить необходимый размер выборки, а затем определить количество дней для проведения эксперимента.\n",
    "\n",
    "#### Исходные данные\n",
    "- Текущий bounce rate: \\( p1 = 0.4 \\)\n",
    "- Ожидаемый bounce rate: \\( p2 = 0.4 \\times (1 - 0.2) = 0.32 \\)\n",
    "- Уровень значимости (\\( alpha \\)): 0.05\n",
    "- Уровень мощности (\\( beta \\)): 0.2 (или мощность \\( 1 - beta = 0.8 \\))\n",
    "- Средний трафик: 4000 человек в день\n"
   ]
  },
  {
   "cell_type": "code",
   "execution_count": 23,
   "id": "6adedeea",
   "metadata": {},
   "outputs": [
    {
     "name": "stdout",
     "output_type": "stream",
     "text": [
      "Размер выборки для каждой группы: 562\n",
      "Необходимое количество дней для эксперимента: 1\n"
     ]
    }
   ],
   "source": [
    "from scipy.stats import norm\n",
    "import math\n",
    "\n",
    "# Исходные параметры\n",
    "p1 = 0.4  # Текущий bounce rate\n",
    "p2 = 0.4 * 0.8  # Ожидаемый bounce rate после уменьшения на 20%\n",
    "alpha = 0.05  # Уровень значимости\n",
    "beta = 0.2  # Уровень мощности\n",
    "daily_traffic = 4000  # Средний дневной трафик\n",
    "\n",
    "# Z-значения для уровней значимости и мощности\n",
    "z_alpha = norm.ppf(1 - alpha / 2)\n",
    "z_beta = norm.ppf(1 - beta)\n",
    "\n",
    "# Расчет размера выборки для каждой группы\n",
    "n = ((z_alpha * math.sqrt(p1 * (1 - p1) + p2 * (1 - p2)) + z_beta * math.sqrt(p1 * (1 - p1) + p2 * (1 - p2))) ** 2) / (p1 - p2) ** 2\n",
    "n = math.ceil(n)\n",
    "\n",
    "# Количество дней для эксперимента, учитывая что ежедневный трафик делится на две группы\n",
    "days_required = math.ceil(n / (daily_traffic / 2))\n",
    "\n",
    "print(f\"Размер выборки для каждой группы: {n}\")\n",
    "print(f\"Необходимое количество дней для эксперимента: {days_required}\")\n"
   ]
  },
  {
   "cell_type": "code",
   "execution_count": null,
   "id": "b073ce35",
   "metadata": {},
   "outputs": [],
   "source": []
  },
  {
   "cell_type": "code",
   "execution_count": null,
   "id": "e693dba4",
   "metadata": {},
   "outputs": [],
   "source": []
  }
 ],
 "metadata": {
  "kernelspec": {
   "display_name": "Python 3 (ipykernel)",
   "language": "python",
   "name": "python3"
  },
  "language_info": {
   "codemirror_mode": {
    "name": "ipython",
    "version": 3
   },
   "file_extension": ".py",
   "mimetype": "text/x-python",
   "name": "python",
   "nbconvert_exporter": "python",
   "pygments_lexer": "ipython3",
   "version": "3.11.4"
  }
 },
 "nbformat": 4,
 "nbformat_minor": 5
}
